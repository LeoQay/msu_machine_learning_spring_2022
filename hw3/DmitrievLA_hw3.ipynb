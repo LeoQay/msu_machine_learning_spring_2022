{
 "cells": [
  {
   "cell_type": "markdown",
   "metadata": {},
   "source": [
    "### Алгоритмы интеллектуальной обработки больших объемов данных\n",
    "## Домашнее задание №3 - Дерево решений\n"
   ]
  },
  {
   "cell_type": "markdown",
   "metadata": {},
   "source": [
    "**Общая информация**\n",
    "\n",
    "**Срок сдачи:** 28 мая 2022, 08:30   \n",
    "**Штраф за опоздание:** по 1 баллу за 24 часа задержки.\n",
    "\n",
    "При отправлении ДЗ указывайте фамилию в названии файла Присылать ДЗ необходимо в виде ссылки на свой github репозиторий на почту ml1.sphere@mail.ru с указанием темы в следующем формате:\n",
    "[ML0221, Задание 3] Фамилия Имя. \n",
    "\n",
    "\n",
    "Используйте данный Ipython Notebook при оформлении домашнего задания."
   ]
  },
  {
   "cell_type": "markdown",
   "metadata": {},
   "source": [
    "##  Реализуем дерево решений (3 балла)"
   ]
  },
  {
   "cell_type": "markdown",
   "metadata": {},
   "source": [
    "Допишите недостающие части дерева решений. Ваша реализация дерева должна работать по точности не хуже DecisionTreeClassifier из sklearn.\n",
    "Внимание: если Вас не устраивает предложенная структура хранения дерева, Вы без потери баллов можете сделать свой класс DecisionTreeClassifier, в котором сами полностью воспроизведете алгоритм дерева решений. Обязательно в нем иметь только функции fit, predict"
   ]
  },
  {
   "cell_type": "code",
   "execution_count": 1,
   "metadata": {
    "jupyter": {
     "outputs_hidden": true
    }
   },
   "outputs": [],
   "source": [
    "import matplotlib.pyplot as plt\n",
    "import numpy as np\n",
    "import pandas as pd\n",
    "\n",
    "from sklearn.datasets import load_wine\n",
    "from sklearn.ensemble import RandomForestClassifier\n",
    "from sklearn.metrics import accuracy_score\n",
    "from sklearn.model_selection import KFold, train_test_split, GridSearchCV, RandomizedSearchCV\n",
    "from sklearn.tree import DecisionTreeClassifier\n"
   ]
  },
  {
   "cell_type": "code",
   "execution_count": 1102,
   "metadata": {
    "jupyter": {
     "outputs_hidden": true
    }
   },
   "outputs": [],
   "source": [
    "import random\n",
    "import math\n",
    "\n",
    "\n",
    "class MyDecisionTreeClassifier:\n",
    "    NON_LEAF_TYPE = 0\n",
    "    LEAF_TYPE = 1\n",
    "    \n",
    "    def __init__(self, min_samples_split=2, max_depth=5, criterion='clf_err'):\n",
    "        \"\"\"\n",
    "        criterion -- критерий расщепления. необходимо релизовать три:\n",
    "            'clf_err' -- Ошибка классификации,\n",
    "            'gini'    -- Индекс Джини,\n",
    "            'entropy' -- Энтропийный критерий\n",
    "        max_depth -- максимальная глубина дерева\n",
    "        min_samples_split -- минимальное число объектов в листе, чтобы сделать новый сплит\n",
    "        \"\"\"\n",
    "        self.min_samples_split = min_samples_split\n",
    "        self.max_depth = max_depth\n",
    "        self.num_class = -1\n",
    "        # Для последнего задания\n",
    "        self.feature_importances_ = None\n",
    "        self.criterion = criterion\n",
    "        # Структура, которая описывает дерево\n",
    "        # Представляет словарь, где для  node_id (айдишник узла дерева) храним\n",
    "        # (тип_узла, айдишник признака сплита, порог сплита) если тип NON_LEAF_TYPE\n",
    "        # (тип_узла, предсказание класса, вероятность класса) если тип LEAF_TYPE\n",
    "        # Подразумевается, что у каждого node_id в дереве слева \n",
    "        # узел с айди 2 * node_id + 1, а справа 2 * node_id + 2\n",
    "        self.tree = dict()\n",
    "        self.gain = np.zeros(1)\n",
    "        \n",
    "        self.summ = 0.0\n",
    "\n",
    "    def __div_samples(self, x, y, feature_id, threshold):\n",
    "        \"\"\"\n",
    "        Разделяет объекты на 2 множества\n",
    "        x -- матрица объектов\n",
    "        y -- вектор ответов\n",
    "        feature_id -- айдишник признака, по которому делаем сплит\n",
    "        threshold -- порог, по которому делаем сплит\n",
    "        \"\"\"\n",
    "        left_mask = x[:, feature_id] > threshold\n",
    "        right_mask = ~left_mask\n",
    "        return x[left_mask], x[right_mask], y[left_mask], y[right_mask]\n",
    "    \n",
    "    def __find_threshold_clf_err(self, x, y):\n",
    "        best_feature_id = -1\n",
    "        best_thr = 0\n",
    "        best_imp = 0\n",
    "        temp_best_0 = 0\n",
    "        temp_best_1 = 0\n",
    "        R_left_stat = np.zeros(self.num_class, dtype=int)\n",
    "        R_right_stat = np.zeros(self.num_class, dtype=int)\n",
    "        R = len(y)\n",
    "        \n",
    "        for feature_id in range(x.shape[1]):\n",
    "            calced = x[:, feature_id]\n",
    "            coords = calced.argsort()\n",
    "            calced = calced[coords]\n",
    "            y = y[coords]\n",
    "            \n",
    "            some_stat = np.array(y)\n",
    "            some_stat[:-1] -= y[1:]\n",
    "            some_stat[-1] = 1\n",
    "            mask = some_stat != 0\n",
    "            stat_y = y[mask]\n",
    "            stat_count = np.arange(R)[mask]\n",
    "            stat_count[1:] -= np.array(stat_count[:-1])\n",
    "            stat_count[0] += 1\n",
    "\n",
    "            R_left = 0\n",
    "            R_right = R\n",
    "            R_left_stat.fill(0)\n",
    "            R_right_stat.fill(0)\n",
    "\n",
    "            for cur_y, cur_count in zip(stat_y, stat_count):\n",
    "                R_right_stat[cur_y] += cur_count\n",
    "                \n",
    "            R_max = R_right_stat.max()\n",
    "            \n",
    "            H_R = R_max * R\n",
    "            R_left_max = 0\n",
    "            R_right_max = R_max\n",
    "            \n",
    "            temp_best_1 = R * R_max\n",
    "            \n",
    "            for ind, cls, amount in zip(range(R), stat_y, stat_count):\n",
    "                R_left += amount\n",
    "                R_right -= amount\n",
    "                left_save = R_left_stat[cls] + amount\n",
    "                R_left_stat[cls] = left_save\n",
    "                right_save = R_right_stat[cls]\n",
    "                R_right_stat[cls] = right_save - amount\n",
    "                \n",
    "                if left_save > R_left_max:\n",
    "                    R_left_max = left_save\n",
    "                if right_save == R_right_max:\n",
    "                    R_right_max = R_right_stat.max()\n",
    "                \n",
    "                cur_impurity = R_left_max * R_left + R_right_max * R_right\n",
    "                \n",
    "                if cur_impurity < temp_best_1:\n",
    "                    temp_best_0 = ind\n",
    "                    temp_best_1 = cur_impurity\n",
    "            \n",
    "            if best_feature_id == -1 or temp_best_1 < best_imp:\n",
    "                best_feature_id = feature_id\n",
    "                best_thr = 0\n",
    "                for ind, predicat in enumerate(mask):\n",
    "                    if predicat:\n",
    "                        if best_thr == temp_best_0:\n",
    "                            best_thr = ind\n",
    "                            break\n",
    "                        best_thr += 1               \n",
    "                best_thr = (calced[best_thr] + calced[best_thr + 1]) / 2\n",
    "                best_imp = temp_best_1\n",
    "        \n",
    "        self.gain[best_feature_id] += best_imp / (R ** 2)\n",
    "        \n",
    "        return best_feature_id, best_thr\n",
    "\n",
    "    def __find_threshold_gini(self, x, y):\n",
    "        best_feature_id = -1\n",
    "        best_thr = 0\n",
    "        best_imp = 0\n",
    "        temp_best_0 = 0\n",
    "        temp_best_1 = 0\n",
    "        R_left_stat = np.zeros(self.num_class, dtype=int)\n",
    "        R_right_stat = np.zeros(self.num_class, dtype=int)\n",
    "        R = len(y)\n",
    "        \n",
    "        for feature_id in range(x.shape[1]):\n",
    "            calced = x[:, feature_id]\n",
    "            coords = calced.argsort()\n",
    "            calced = calced[coords]\n",
    "            y = y[coords]\n",
    "            \n",
    "            some_stat = np.array(y)\n",
    "            some_stat[:-1] -= y[1:]\n",
    "            some_stat[-1] = 1\n",
    "            mask = some_stat != 0\n",
    "            stat_y = y[mask]\n",
    "            stat_count = np.arange(R)[mask]\n",
    "            stat_count[1:] -= np.array(stat_count[:-1])\n",
    "            stat_count[0] += 1\n",
    "\n",
    "            R_left = 0\n",
    "            R_right = R\n",
    "            R_left_stat.fill(0)\n",
    "            R_right_stat.fill(0)\n",
    "\n",
    "            for cur_y, cur_count in zip(stat_y, stat_count):\n",
    "                R_right_stat[cur_y] += cur_count\n",
    "            \n",
    "            R_sum = (R_right_stat ** 2).sum()\n",
    "            R_right_sum = R_sum\n",
    "            R_left_sum = 0\n",
    "            H_R = R_sum * R\n",
    "            \n",
    "            temp_best_1 = H_R * R\n",
    "            \n",
    "            for ind, cls, amount in zip(range(R), stat_y, stat_count):\n",
    "                R_left += amount\n",
    "                R_right -= amount\n",
    "                left_save = R_left_stat[cls]\n",
    "                R_left_stat[cls] = left_save + amount\n",
    "                right_save = R_right_stat[cls]\n",
    "                R_right_stat[cls] = right_save - amount\n",
    "                \n",
    "                sq = amount ** 2\n",
    "                R_left_sum += sq + 2 * amount * left_save\n",
    "                R_right_stat += sq - 2 * amount * right_save\n",
    "                \n",
    "                cur_impurity = R_left * R_left_sum + R_right * R_right_sum\n",
    "                \n",
    "                if cur_impurity < temp_best_1:\n",
    "                    temp_best_0 = ind\n",
    "                    temp_best_1 = cur_impurity\n",
    "            \n",
    "            if best_feature_id == -1 or temp_best_1 < best_imp:\n",
    "                best_feature_id = feature_id\n",
    "                best_thr = 0\n",
    "                for ind, predicat in enumerate(mask):\n",
    "                    if predicat:\n",
    "                        if best_thr == temp_best_0:\n",
    "                            best_thr = ind\n",
    "                            break\n",
    "                        best_thr += 1               \n",
    "                best_thr = (calced[best_thr] + calced[best_thr + 1]) / 2\n",
    "                best_imp = temp_best_1\n",
    "        \n",
    "        self.gain[best_feature_id] += best_imp / (R ** 3)\n",
    "        \n",
    "        return best_feature_id, best_thr\n",
    "\n",
    "    def __find_threshold_entropy(self, x, y):\n",
    "        best_feature_id = -1\n",
    "        best_thr = 0\n",
    "        best_imp = 0\n",
    "        temp_best_0 = 0\n",
    "        temp_best_1 = 0\n",
    "        R_left_stat = np.zeros(self.num_class, dtype=int)\n",
    "        R_right_stat = np.zeros(self.num_class, dtype=int)\n",
    "        R = len(y)\n",
    "        \n",
    "        for feature_id in range(x.shape[1]):\n",
    "            calced = x[:, feature_id]\n",
    "            coords = calced.argsort()\n",
    "            calced = calced[coords]\n",
    "            y = y[coords]\n",
    "            \n",
    "            some_stat = np.array(y)\n",
    "            some_stat[:-1] -= y[1:]\n",
    "            some_stat[-1] = 1\n",
    "            mask = some_stat != 0\n",
    "            stat_y = y[mask]\n",
    "            stat_count = np.arange(R)[mask]\n",
    "            stat_count[1:] -= np.array(stat_count[:-1])\n",
    "            stat_count[0] += 1\n",
    "\n",
    "            R_left = 0\n",
    "            R_right = R\n",
    "            R_left_stat.fill(0)\n",
    "            R_right_stat.fill(0)\n",
    "\n",
    "            for cur_y, cur_count in zip(stat_y, stat_count):\n",
    "                R_right_stat[cur_y] += cur_count\n",
    "            \n",
    "            temp = R_right_stat / R\n",
    "            temp[temp == 0] = 1\n",
    "            R_sum = -1 * (temp * np.log(temp)).sum()\n",
    "            R_left_sum = 0\n",
    "            R_right_sum = R_sum\n",
    "            \n",
    "            temp_best_1 = R * R_sum * R\n",
    "            \n",
    "            for ind, cls, amount in zip(range(len(stat_y) - 1), stat_y, stat_count):\n",
    "                R_left += amount\n",
    "                R_right -= amount\n",
    "                left_save = R_left_stat[cls]\n",
    "                R_left_stat[cls] = left_save + amount\n",
    "                right_save = R_right_stat[cls]\n",
    "                R_right_stat[cls] = right_save - amount\n",
    "                \n",
    "                if left_save != 0:\n",
    "                    R_left_sum += math.log(left_save / R) * left_save / R\n",
    "                left_save += amount\n",
    "                R_left_sum -= math.log(left_save / R) * left_save / R\n",
    "                if right_save != 0:\n",
    "                    R_right_sum -= math.log(right_save / R) * right_save / R\n",
    "                right_save += amount\n",
    "                R_right_sum += math.log(right_save / R) * right_save / R\n",
    "                \n",
    "                cur_impurity = R_left * R_left_sum + R_right * R_right_sum\n",
    "                \n",
    "                if cur_impurity < temp_best_1:\n",
    "                    temp_best_0 = ind\n",
    "                    temp_best_1 = cur_impurity\n",
    "            \n",
    "            if best_feature_id == -1 or temp_best_1 < best_imp:\n",
    "                best_feature_id = feature_id\n",
    "                best_thr = 0\n",
    "                for ind, predicat in enumerate(mask):\n",
    "                    if predicat:\n",
    "                        if best_thr == temp_best_0:\n",
    "                            best_thr = ind\n",
    "                            break\n",
    "                        best_thr += 1               \n",
    "                best_thr = (calced[best_thr] + calced[best_thr + 1]) / 2\n",
    "                best_imp = temp_best_1\n",
    "        \n",
    "        self.gain[best_feature_id] += R_sum + best_imp\n",
    "        \n",
    "        return best_feature_id, best_thr\n",
    "    \n",
    "    def __find_threshold(self, x, y):\n",
    "        \"\"\"\n",
    "        Находим оптимальный признак и порог для сплита\n",
    "        Здесь используем разные impurity в зависимости от self.criterion\n",
    "        \"\"\"\n",
    "        if self.criterion == 'clf_err':\n",
    "            return self.__find_threshold_clf_err(x, y)\n",
    "        elif self.criterion == 'gini':\n",
    "            return self.__find_threshold_gini(x, y)\n",
    "        elif self.criterion == 'entropy':\n",
    "            return self.__find_threshold_entropy(x, y)\n",
    "        else:\n",
    "            raise ValueError()\n",
    "        \n",
    "\n",
    "    def __fit_node(self, x, y, node_id, depth):\n",
    "        \"\"\"\n",
    "        Делаем новый узел в дереве\n",
    "        Решаем, терминальный он или нет\n",
    "        Если нет, то строим левый узел  с айди 2 * node_id + 1\n",
    "        И правый узел с айди 2 * node_id + 2\n",
    "        \"\"\"\n",
    "        # Ваш код здесь\n",
    "        \n",
    "        # empty node\n",
    "        if x.shape[0] == 0:\n",
    "            self.tree[node_id] = (self.__class__.LEAF_TYPE, random.randint(0, self.num_class), 1 / self.num_class)\n",
    "            return\n",
    "                \n",
    "        # uniform, min saples, max depth\n",
    "        stat_y, stat_counts = np.unique(y, return_counts=True)\n",
    "        arg = stat_counts.argmax()\n",
    "        max_counts = stat_counts[arg]\n",
    "        arg = stat_y[arg]\n",
    "        \n",
    "        if x.shape[0] == max_counts or x.shape[0] <= self.min_samples_split or depth >= self.max_depth:\n",
    "            self.tree[node_id] = (self.__class__.LEAF_TYPE, arg, max_counts / len(y))\n",
    "            return\n",
    "        \n",
    "        # must do split\n",
    "        feature_id, threshold = self.__find_threshold(x, y)\n",
    "        x_left, x_right, y_left, y_right = self.__div_samples(x, y, feature_id, threshold)\n",
    "        \n",
    "        self.tree[node_id] = (self.__class__.NON_LEAF_TYPE, feature_id, threshold)\n",
    "        self.__fit_node(x_left, y_left, 2 * node_id + 1, depth + 1)\n",
    "        self.__fit_node(x_right, y_right, 2 * node_id + 2, depth + 1)\n",
    "    \n",
    "    def fit(self, x, y):\n",
    "        \"\"\"\n",
    "        Рекурсивно строим дерево решений\n",
    "        Начинаем с корня node_id 0\n",
    "        \"\"\"\n",
    "        self.num_class = np.unique(y).size\n",
    "        self.gain = np.zeros(x.shape[1])\n",
    "        self.__fit_node(x, y, 0, 0)\n",
    "\n",
    "    def __predict_class(self, x, node_id):\n",
    "        \"\"\"\n",
    "        Рекурсивно обходим дерево по всем узлам,\n",
    "        пока не дойдем до терминального\n",
    "        \"\"\"\n",
    "        node = self.tree[node_id]\n",
    "        if node[0] == self.__class__.NON_LEAF_TYPE:\n",
    "            _, feature_id, threshold = node\n",
    "            if x[feature_id] > threshold:\n",
    "                return self.__predict_class(x, 2 * node_id + 1)\n",
    "            else:\n",
    "                return self.__predict_class(x, 2 * node_id + 2)\n",
    "        else:\n",
    "            return node[1]\n",
    "        \n",
    "    def predict(self, X):\n",
    "        \"\"\"\n",
    "        Вызывает predict для всех объектов из матрицы X\n",
    "        \"\"\"\n",
    "        return np.array([self.__predict_class(x, 0) for x in X])\n",
    "    \n",
    "    def fit_predict(self, x_train, y_train, predicted_x):\n",
    "        self.fit(x_train, y_train)\n",
    "        return self.predict(predicted_x)\n",
    "    \n",
    "    def get_feature_importance(self):\n",
    "        \"\"\"\n",
    "        Возвращает важность признаков\n",
    "        \"\"\"\n",
    "        return self.gain"
   ]
  },
  {
   "cell_type": "code",
   "execution_count": 1093,
   "metadata": {
    "jupyter": {
     "outputs_hidden": true
    }
   },
   "outputs": [],
   "source": [
    "wine = load_wine()\n",
    "X_train, X_test, y_train, y_test = train_test_split(wine.data, wine.target, test_size=0.1, stratify=wine.target)"
   ]
  },
  {
   "cell_type": "code",
   "execution_count": 1094,
   "metadata": {},
   "outputs": [
    {
     "data": {
      "text/plain": [
       "DecisionTreeClassifier()"
      ]
     },
     "execution_count": 1094,
     "metadata": {},
     "output_type": "execute_result"
    }
   ],
   "source": [
    "my_clf = MyDecisionTreeClassifier(min_samples_split=2)\n",
    "clf = DecisionTreeClassifier(min_samples_split=2)\n",
    "my_clf.fit(X_train, y_train)\n",
    "clf.fit(X_train, y_train)"
   ]
  },
  {
   "cell_type": "code",
   "execution_count": 1095,
   "metadata": {
    "jupyter": {
     "outputs_hidden": true
    }
   },
   "outputs": [
    {
     "name": "stdout",
     "output_type": "stream",
     "text": [
      "0.9444444444444444\n",
      "0.8888888888888888\n"
     ]
    }
   ],
   "source": [
    "print(accuracy_score(y_pred=clf.predict(X_test), y_true=y_test))\n",
    "print(accuracy_score(y_pred=my_clf.predict(X_test), y_true=y_test))"
   ]
  },
  {
   "cell_type": "markdown",
   "metadata": {},
   "source": [
    "## Ускоряем дерево решений (2 балла)\n",
    "Добиться скорости работы на fit не медленнее чем в 10 раз sklearn на данных wine. \n",
    "Для этого используем numpy."
   ]
  },
  {
   "cell_type": "code",
   "execution_count": 1097,
   "metadata": {
    "jupyter": {
     "outputs_hidden": true
    },
    "scrolled": true
   },
   "outputs": [],
   "source": [
    "my_clf = MyDecisionTreeClassifier(min_samples_split=2)\n",
    "clf = DecisionTreeClassifier(min_samples_split=2)"
   ]
  },
  {
   "cell_type": "code",
   "execution_count": 1098,
   "metadata": {},
   "outputs": [
    {
     "name": "stdout",
     "output_type": "stream",
     "text": [
      "Wall time: 1.31 ms\n"
     ]
    },
    {
     "data": {
      "text/plain": [
       "DecisionTreeClassifier()"
      ]
     },
     "execution_count": 1098,
     "metadata": {},
     "output_type": "execute_result"
    }
   ],
   "source": [
    "%time clf.fit(X_train, y_train)"
   ]
  },
  {
   "cell_type": "code",
   "execution_count": 1099,
   "metadata": {
    "jupyter": {
     "outputs_hidden": true
    }
   },
   "outputs": [
    {
     "name": "stdout",
     "output_type": "stream",
     "text": [
      "Wall time: 25 ms\n"
     ]
    }
   ],
   "source": [
    "%time my_clf.fit(X_train, y_train)"
   ]
  },
  {
   "cell_type": "markdown",
   "metadata": {},
   "source": [
    "## Боевое применение (3 балла)\n",
    "\n",
    "На практике Вы познакомились с датасетом Speed Dating Data. В нем каждая пара в быстрых свиданиях характеризуется определенным набором признаков. Задача -- предсказать, произойдет ли матч пары (колонка match). \n",
    "\n",
    "Пример работы с датасетом можете найти в практике пункт 2\n",
    "https://github.com/VVVikulin/ml1.sphere/blob/master/2019-09/lecture_06/pract-trees.ipynb\n",
    "\n",
    "Данные и описания колонок лежат тут\n",
    "https://cloud.mail.ru/public/8nHV/p6J7wY1y1/speed-dating-experiment/"
   ]
  },
  {
   "cell_type": "markdown",
   "metadata": {},
   "source": [
    "Скачайте датасет, обработайте данные, как показано на семинаре или своим собственным способом. Обучите дерево классифкации. В качестве таргета возьмите колонку 'match'. Постарайтесь хорошо обработать признаки, чтобы выбить максимальную точность. Если точность будет близка к случайному гаданию, задание не будет защитано. \n"
   ]
  },
  {
   "cell_type": "code",
   "execution_count": null,
   "metadata": {
    "collapsed": true,
    "jupyter": {
     "outputs_hidden": true
    }
   },
   "outputs": [],
   "source": []
  },
  {
   "cell_type": "code",
   "execution_count": null,
   "metadata": {
    "collapsed": true,
    "jupyter": {
     "outputs_hidden": true
    }
   },
   "outputs": [],
   "source": []
  },
  {
   "cell_type": "markdown",
   "metadata": {},
   "source": [
    "Разбейте датасет на трейн и валидацию. Подберите на валидации оптимальный критерий  информативности. \n",
    "Постройте графики зависимости точности на валидации от глубины дерева, от минимального числа объектов для сплита. \n",
    "Какой максимальной точности удалось достигнуть?"
   ]
  },
  {
   "cell_type": "code",
   "execution_count": null,
   "metadata": {
    "collapsed": true,
    "jupyter": {
     "outputs_hidden": true
    }
   },
   "outputs": [],
   "source": []
  },
  {
   "cell_type": "code",
   "execution_count": null,
   "metadata": {
    "collapsed": true,
    "jupyter": {
     "outputs_hidden": true
    }
   },
   "outputs": [],
   "source": []
  },
  {
   "cell_type": "markdown",
   "metadata": {},
   "source": [
    "## Находим самые важные признаки (2 балла)\n",
    "\n"
   ]
  },
  {
   "cell_type": "markdown",
   "metadata": {},
   "source": [
    "По построенному дереву  легко понять, какие признаки лучше всего помогли решить задачу. Часто это бывает нужно  не только  для сокращения размерности в данных, но и для лучшего понимания прикладной задачи. Например, Вы хотите понять, какие признаки стоит еще конструировать -- для этого нужно понимать, какие из текущих лучше всего работают в дереве. "
   ]
  },
  {
   "cell_type": "markdown",
   "metadata": {},
   "source": [
    "Самый простой метод -- посчитать число сплитов, где использовался данные признак. Это не лучший вариант, так как по признаку который принимает всего 2 значения, но который почти точно разделяет выборку, число сплитов будет очень 1, но при этом признак сам очень хороший. \n",
    "В этом задании предлагается для каждого признака считать суммарный gain (в лекции обозначено как Q) при использовании этого признака в сплите. Тогда даже у очень хороших признаков с маленьким число сплитов это значение должно быть довольно высоким.  "
   ]
  },
  {
   "cell_type": "markdown",
   "metadata": {},
   "source": [
    "Реализовать это довольно просто: создаете словарь номер фичи : суммарный гейн и добавляете в нужную фичу каждый раз, когда используете ее при построении дерева. "
   ]
  },
  {
   "cell_type": "markdown",
   "metadata": {},
   "source": [
    "Добавьте функционал, который определяет значения feature importance. Обучите дерево на датасете Speed Dating Data.\n",
    "Выведите 10 главных фичей по важности."
   ]
  },
  {
   "cell_type": "code",
   "execution_count": 1105,
   "metadata": {
    "jupyter": {
     "outputs_hidden": true
    }
   },
   "outputs": [],
   "source": [
    "my_clf = MyDecisionTreeClassifier(min_samples_split=2, criterion='entropy')\n",
    "my_clf.fit(X_train, y_train)"
   ]
  },
  {
   "cell_type": "code",
   "execution_count": 1106,
   "metadata": {
    "jupyter": {
     "outputs_hidden": true
    }
   },
   "outputs": [
    {
     "data": {
      "text/plain": [
       "array([255.78834867,  59.1716321 ,   6.17485689,  28.55175613,\n",
       "         0.        ,   0.        ,   8.2311727 ,  46.44879485,\n",
       "        24.3841442 ,  33.53171272,  20.25240445,  10.77768938,\n",
       "         0.        ])"
      ]
     },
     "execution_count": 1106,
     "metadata": {},
     "output_type": "execute_result"
    }
   ],
   "source": [
    "my_clf.get_feature_importance()"
   ]
  },
  {
   "cell_type": "markdown",
   "metadata": {},
   "source": [
    "## Фидбек (бесценно)"
   ]
  },
  {
   "cell_type": "markdown",
   "metadata": {},
   "source": [
    "* Какие аспекты обучения деревьев решений Вам показались непонятными? Какое место стоит дополнительно объяснить?"
   ]
  },
  {
   "cell_type": "markdown",
   "metadata": {},
   "source": [
    "### Ваш ответ здесь"
   ]
  },
  {
   "cell_type": "markdown",
   "metadata": {},
   "source": [
    "* Здесь Вы можете оставить отзыв о этой домашней работе или о всем курсе."
   ]
  },
  {
   "cell_type": "markdown",
   "metadata": {},
   "source": [
    "### ВАШ ОТЗЫВ ЗДЕСЬ\n",
    "\n"
   ]
  },
  {
   "cell_type": "code",
   "execution_count": null,
   "metadata": {
    "collapsed": true,
    "jupyter": {
     "outputs_hidden": true
    }
   },
   "outputs": [],
   "source": []
  },
  {
   "cell_type": "code",
   "execution_count": null,
   "metadata": {
    "collapsed": true,
    "jupyter": {
     "outputs_hidden": true
    }
   },
   "outputs": [],
   "source": []
  }
 ],
 "metadata": {
  "anaconda-cloud": {},
  "kernelspec": {
   "display_name": "Python 3 (ipykernel)",
   "language": "python",
   "name": "python3"
  },
  "language_info": {
   "codemirror_mode": {
    "name": "ipython",
    "version": 3
   },
   "file_extension": ".py",
   "mimetype": "text/x-python",
   "name": "python",
   "nbconvert_exporter": "python",
   "pygments_lexer": "ipython3",
   "version": "3.7.11"
  },
  "widgets": {
   "application/vnd.jupyter.widget-state+json": {
    "state": {},
    "version_major": 2,
    "version_minor": 0
   }
  }
 },
 "nbformat": 4,
 "nbformat_minor": 4
}
